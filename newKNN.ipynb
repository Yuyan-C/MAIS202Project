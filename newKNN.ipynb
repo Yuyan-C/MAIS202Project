{
  "nbformat": 4,
  "nbformat_minor": 0,
  "metadata": {
    "colab": {
      "name": "newKNN.ipynb",
      "provenance": [],
      "authorship_tag": "ABX9TyMlsRHD1Klb5dSz0e+PFiKf",
      "include_colab_link": true
    },
    "kernelspec": {
      "name": "python3",
      "display_name": "Python 3"
    }
  },
  "cells": [
    {
      "cell_type": "markdown",
      "metadata": {
        "id": "view-in-github",
        "colab_type": "text"
      },
      "source": [
        "<a href=\"https://colab.research.google.com/github/Yuyan-C/MAIS202Project/blob/main/newKNN.ipynb\" target=\"_parent\"><img src=\"https://colab.research.google.com/assets/colab-badge.svg\" alt=\"Open In Colab\"/></a>"
      ]
    },
    {
      "cell_type": "code",
      "metadata": {
        "colab": {
          "base_uri": "https://localhost:8080/"
        },
        "id": "1odVAfcqe9oe",
        "outputId": "f3aa2052-6c88-4e31-f7b1-a824be1a93a0"
      },
      "source": [
        "import pandas as pd\n",
        "import numpy as np\n",
        "import matplotlib.pyplot as plt\n",
        "from datetime import datetime\n",
        "from sklearn.model_selection import train_test_split\n",
        "from sklearn.linear_model import SGDClassifier\n",
        "from sklearn.preprocessing import MinMaxScaler\n",
        "from sklearn.metrics import balanced_accuracy_score\n",
        "from sklearn.metrics import accuracy_score\n",
        "from sklearn.model_selection import GridSearchCV\n",
        "from sklearn.metrics import confusion_matrix\n",
        "from sklearn.metrics import classification_report\n",
        "from sklearn.svm import SVC\n",
        "import seaborn as sns\n",
        "from imblearn.over_sampling import RandomOverSampler, SMOTE, ADASYN\n",
        "df = pd.read_csv('covtype.csv')\n",
        "x = df['Horizontal_Distance_To_Hydrology'].values\n",
        "y = df['Vertical_Distance_To_Hydrology'].values\n",
        "distance = np.sqrt(np.square(x)+np.square(y))\n",
        "df = df.drop(['Horizontal_Distance_To_Hydrology', 'Vertical_Distance_To_Hydrology'], axis=1)\n",
        "df.insert(3, \"Distance_To_Hydrology\", distance)\n",
        "# set the number of training set, validation set, and testing set\n",
        "# get the number of features \n",
        "num_features = len(df.columns)-1\n",
        "# set X and y\n",
        "scaler = MinMaxScaler() \n",
        "X = scaler.fit_transform(df.iloc[:, :num_features])\n",
        "y = df.iloc[:, num_features:].to_numpy().reshape(len(df.index))\n",
        "# set training, validation, and testing sets\n",
        "# 64% training, 16% validation, 20% testing\n",
        "#\n",
        "X_train, X_test, y_train, y_test = train_test_split(X, y, test_size=0.2, random_state=42, shuffle = True)\n",
        "X_train, X_valid, y_train, y_valid = train_test_split(X_train, y_train, test_size=0.2, random_state=42, shuffle = True)#\n",
        "ros = RandomOverSampler(random_state=0)\n",
        "X_train, y_train = ros.fit_resample(X_train, y_train)\n"
      ],
      "execution_count": 2,
      "outputs": [
        {
          "output_type": "stream",
          "text": [
            "/usr/local/lib/python3.7/dist-packages/sklearn/utils/deprecation.py:87: FutureWarning: Function safe_indexing is deprecated; safe_indexing is deprecated in version 0.22 and will be removed in version 0.24.\n",
            "  warnings.warn(msg, category=FutureWarning)\n"
          ],
          "name": "stderr"
        }
      ]
    },
    {
      "cell_type": "code",
      "metadata": {
        "colab": {
          "base_uri": "https://localhost:8080/",
          "height": 622
        },
        "id": "oV4jR7qWfpJX",
        "outputId": "42d58c39-009e-42eb-e785-45a0c99a8802"
      },
      "source": [
        "from sklearn.neighbors import KNeighborsClassifier\n",
        "clf = KNeighborsClassifier(n_neighbors=5) \n",
        "print(datetime.now().strftime(\"%H:%M:%S.%f\"))\n",
        "print(\"fitting...\")\n",
        "print(datetime.now().strftime(\"%H:%M:%S.%f\"))\n",
        "clf.fit(X_train,y_train)\n",
        "print(\"predicting training set...\")\n",
        "print(datetime.now().strftime(\"%H:%M:%S.%f\"))\n",
        "y_train_pred = clf.predict(X_train)\n",
        "print(\"predicting validation set...\")\n",
        "print(datetime.now().strftime(\"%H:%M:%S.%f\"))\n",
        "y_valid_pred = clf.predict(X_valid)\n",
        "print(\"training accuracy: {}\".format(accuracy_score(y_train, y_train_pred)))\n",
        "print(\"testing accuracy: {}\".format(accuracy_score(y_valid,y_valid_pred)))\n",
        "print(\"training accuracy (balanced): {}\".format(balanced_accuracy_score(y_train, y_train_pred)))\n",
        "print(\"testing accuracy (balanced): {}\".format(balanced_accuracy_score(y_valid, y_valid_pred)))\n",
        "print(datetime.now().strftime(\"%H:%M:%S.%f\"))\n",
        "#Confusion matrix whose i-th row and j-th column entry \n",
        "#indicates the number of samples with true label \n",
        "#being i-th class and predicted label being j-th class.\n",
        "cf_matrix_train = confusion_matrix(y_train_pred, y_train)\n",
        "print(\"confusion matrix for training set:\\n {}\".format(cf_matrix_train))\n",
        "sns.heatmap(cf_matrix_train, annot=False)"
      ],
      "execution_count": 3,
      "outputs": [
        {
          "output_type": "stream",
          "text": [
            "14:14:24.577984\n",
            "fitting...\n",
            "14:14:24.578513\n",
            "predicting training set...\n",
            "14:35:33.287719\n",
            "predicting validation set...\n",
            "17:50:06.855003\n",
            "training accuracy: 0.9868759915440728\n",
            "testing accuracy: 0.9203868247240808\n",
            "training accuracy (balanced): 0.9868759915440728\n",
            "testing accuracy (balanced): 0.9055019767207738\n",
            "18:12:29.575928\n",
            "confusion matrix for training set:\n",
            " [[175103   6690      0      0      0      0      0]\n",
            " [  4989 171144      0      0      0      0      0]\n",
            " [    17    885 181419      0      0      0      0]\n",
            " [     0      4      7 181445      0      0      0]\n",
            " [   214   1678      0      0 181445      0      0]\n",
            " [    57    814     19      0      0 181445      0]\n",
            " [  1065    230      0      0      0      0 181445]]\n"
          ],
          "name": "stdout"
        },
        {
          "output_type": "execute_result",
          "data": {
            "text/plain": [
              "<matplotlib.axes._subplots.AxesSubplot at 0x7fea516ddd50>"
            ]
          },
          "metadata": {
            "tags": []
          },
          "execution_count": 3
        },
        {
          "output_type": "display_data",
          "data": {
            "image/png": "[encoded data removed]",
            "text/plain": [
              "<Figure size 432x288 with 2 Axes>"
            ]
          },
          "metadata": {
            "tags": [],
            "needs_background": "light"
          }
        }
      ]
    },
    {
      "cell_type": "code",
      "metadata": {
        "id": "epxzrwSxfSER"
      },
      "source": [
        "cf_matrix_valid = confusion_matrix(y_valid_pred, y_valid)\n",
        "print(\"confusion matrix for validation set:\\n {}\".format(cf_matrix_valid))\n",
        "sns.heatmap(cf_matrix_valid, annot=False)"
      ],
      "execution_count": null,
      "outputs": []
    }
  ]
}